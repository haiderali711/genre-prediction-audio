{
 "cells": [
  {
   "cell_type": "code",
   "execution_count": 109,
   "metadata": {},
   "outputs": [],
   "source": [
    "import sqlite3\n",
    "import pandas as pd\n",
    "import numpy as np\n",
    "\n",
    "from sklearn.model_selection import train_test_split\n",
    "from sklearn.preprocessing import LabelEncoder, StandardScaler"
   ]
  },
  {
   "cell_type": "code",
   "execution_count": 110,
   "metadata": {},
   "outputs": [],
   "source": [
    "def create_db_connection(db_file):\n",
    "    \"\"\"\n",
    "    Create a database connection to the SQLite database\n",
    "    specified by the db_file\n",
    "    \n",
    "    :param db_file: database file\n",
    "    :return: Connection object or None\n",
    "    \"\"\"\n",
    "    connection = None\n",
    "    try:\n",
    "        connection = sqlite3.connect(db_file)\n",
    "    except Error as e:\n",
    "        print(e)\n",
    "\n",
    "    return connection"
   ]
  },
  {
   "cell_type": "code",
   "execution_count": 112,
   "metadata": {},
   "outputs": [],
   "source": [
    "def select_all_genre_path(connection):\n",
    "    \"\"\"\n",
    "    Query all data in the genrepath table\n",
    "    \n",
    "    :param connection: the Connection object\n",
    "    :return: list of data\n",
    "    \"\"\"\n",
    "    cursor = connection.cursor()\n",
    "    cursor.execute(\"SELECT * from genrepath\")\n",
    "\n",
    "    return cursor.fetchall()"
   ]
  },
  {
   "cell_type": "code",
   "execution_count": 114,
   "metadata": {},
   "outputs": [],
   "source": [
    "def create_pd_data_frame(np_array):\n",
    "    \"\"\"\n",
    "    Creates a Pandas DataFrame from a given np array.\n",
    "  \n",
    "    Note that the each row in an np array has the foramt:\n",
    "        filename, chroma_stft, rmse, spectral_centroid, spectral_bandwidth,\n",
    "        rolloff, zero_crossing_rate, mfcc1, mfcc2, ... , mfcc20, genre\n",
    "  \n",
    "    :param np_array: np array\n",
    "    :return: Pandas DataFrame\n",
    "    \"\"\"\n",
    "    # we do not include unneccesary data such as 'filename's\n",
    "    # 'filename': np_array[:,0]\n",
    "    return pd.DataFrame({'chroma_stft': np_array[:, 1],\n",
    "                         'rmse': np_array[:, 2],\n",
    "                         'spectral_centroid': np_array[:, 3],\n",
    "                         'spectral_bandwidth': np_array[:, 4],\n",
    "                         'rolloff': np_array[:, 5],\n",
    "                         'zero_crossing_rate': np_array[:, 6],\n",
    "                         'mfcc1': np_array[:, 7],\n",
    "                         'mfcc2': np_array[:, 8],\n",
    "                         'mfcc3': np_array[:, 9],\n",
    "                         'mfcc4': np_array[:, 10],\n",
    "                         'mfcc5': np_array[:, 11],\n",
    "                         'mfcc6': np_array[:, 12],\n",
    "                         'mfcc7': np_array[:, 13],\n",
    "                         'mfcc8': np_array[:, 14],\n",
    "                         'mfcc9': np_array[:, 15],\n",
    "                         'mfcc10': np_array[:, 16],\n",
    "                         'mfcc11': np_array[:, 17],\n",
    "                         'mfcc12': np_array[:, 18],\n",
    "                         'mfcc13': np_array[:, 19],\n",
    "                         'mfcc14': np_array[:, 20],\n",
    "                         'mfcc15': np_array[:, 21],\n",
    "                         'mfcc16': np_array[:, 22],\n",
    "                         'mfcc17': np_array[:, 23],\n",
    "                         'mfcc18': np_array[:, 24],\n",
    "                         'mfcc19': np_array[:, 25],\n",
    "                         'mfcc20': np_array[:, 26],\n",
    "                         'label': np_array[:, 27]\n",
    "                         })"
   ]
  },
  {
   "cell_type": "code",
   "execution_count": 115,
   "metadata": {},
   "outputs": [],
   "source": [
    "connection = create_db_connection(\"genres.db\")\n",
    "data = select_all_genre_path(connection)\n",
    "data = create_pd_data_frame(np.asarray(data))"
   ]
  },
  {
   "cell_type": "code",
   "execution_count": 116,
   "metadata": {},
   "outputs": [
    {
     "name": "stdout",
     "output_type": "stream",
     "text": [
      "800 200\n"
     ]
    }
   ],
   "source": [
    "# encode labels(genres)\n",
    "genres = data.iloc[:, -1]\n",
    "encoder = LabelEncoder()\n",
    "y = encoder.fit_transform(genres)\n",
    "\n",
    "# Scale the Feature columns\n",
    "scaler = StandardScaler()\n",
    "X = scaler.fit_transform(np.array(data.iloc[:, :-1], dtype = float))\n",
    "\n",
    "# Dividing data into Training and Testing sets\n",
    "X_train, X_test, y_train, y_test = train_test_split(X, y, test_size=0.2)\n",
    "print(len(X_train), len(X_test))"
   ]
  },
  {
   "cell_type": "code",
   "execution_count": null,
   "metadata": {},
   "outputs": [],
   "source": []
  }
 ],
 "metadata": {
  "kernelspec": {
   "display_name": "Python 3",
   "language": "python",
   "name": "python3"
  },
  "language_info": {
   "codemirror_mode": {
    "name": "ipython",
    "version": 3
   },
   "file_extension": ".py",
   "mimetype": "text/x-python",
   "name": "python",
   "nbconvert_exporter": "python",
   "pygments_lexer": "ipython3",
   "version": "3.8.3"
  }
 },
 "nbformat": 4,
 "nbformat_minor": 4
}
